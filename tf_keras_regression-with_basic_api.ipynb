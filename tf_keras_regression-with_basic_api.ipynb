{
 "cells": [
  {
   "cell_type": "code",
   "execution_count": 11,
   "metadata": {},
   "outputs": [
    {
     "name": "stdout",
     "output_type": "stream",
     "text": [
      "2.1.0\n",
      "sys.version_info(major=3, minor=7, micro=1, releaselevel='final', serial=0)\n",
      "matplotlib 3.0.2\n",
      "numpy 1.18.1\n",
      "pandas 1.0.1\n",
      "sklearn 0.20.1\n",
      "tensorflow 2.1.0\n",
      "tensorflow_core.python.keras.api._v2.keras 2.2.4-tf\n"
     ]
    }
   ],
   "source": [
    "import matplotlib as mpl\n",
    "import matplotlib.pyplot as plt\n",
    "%matplotlib inline\n",
    "import numpy as np\n",
    "import sklearn\n",
    "import pandas as pd\n",
    "import os\n",
    "import sys\n",
    "import time\n",
    "import tensorflow as tf\n",
    "\n",
    "from tensorflow import keras\n",
    "\n",
    "print(tf.__version__)\n",
    "print(sys.version_info)\n",
    "for module in mpl, np, pd, sklearn, tf, keras:\n",
    "    print(module.__name__, module.__version__)"
   ]
  },
  {
   "cell_type": "code",
   "execution_count": 12,
   "metadata": {},
   "outputs": [
    {
     "data": {
      "text/plain": [
       "<tf.Tensor: shape=(10, 100), dtype=float32, numpy=\n",
       "array([[0., 0., 0., 0., 0., 0., 0., 0., 0., 0., 0., 0., 0., 0., 0., 0.,\n",
       "        0., 0., 0., 0., 0., 0., 0., 0., 0., 0., 0., 0., 0., 0., 0., 0.,\n",
       "        0., 0., 0., 0., 0., 0., 0., 0., 0., 0., 0., 0., 0., 0., 0., 0.,\n",
       "        0., 0., 0., 0., 0., 0., 0., 0., 0., 0., 0., 0., 0., 0., 0., 0.,\n",
       "        0., 0., 0., 0., 0., 0., 0., 0., 0., 0., 0., 0., 0., 0., 0., 0.,\n",
       "        0., 0., 0., 0., 0., 0., 0., 0., 0., 0., 0., 0., 0., 0., 0., 0.,\n",
       "        0., 0., 0., 0.],\n",
       "       [0., 0., 0., 0., 0., 0., 0., 0., 0., 0., 0., 0., 0., 0., 0., 0.,\n",
       "        0., 0., 0., 0., 0., 0., 0., 0., 0., 0., 0., 0., 0., 0., 0., 0.,\n",
       "        0., 0., 0., 0., 0., 0., 0., 0., 0., 0., 0., 0., 0., 0., 0., 0.,\n",
       "        0., 0., 0., 0., 0., 0., 0., 0., 0., 0., 0., 0., 0., 0., 0., 0.,\n",
       "        0., 0., 0., 0., 0., 0., 0., 0., 0., 0., 0., 0., 0., 0., 0., 0.,\n",
       "        0., 0., 0., 0., 0., 0., 0., 0., 0., 0., 0., 0., 0., 0., 0., 0.,\n",
       "        0., 0., 0., 0.],\n",
       "       [0., 0., 0., 0., 0., 0., 0., 0., 0., 0., 0., 0., 0., 0., 0., 0.,\n",
       "        0., 0., 0., 0., 0., 0., 0., 0., 0., 0., 0., 0., 0., 0., 0., 0.,\n",
       "        0., 0., 0., 0., 0., 0., 0., 0., 0., 0., 0., 0., 0., 0., 0., 0.,\n",
       "        0., 0., 0., 0., 0., 0., 0., 0., 0., 0., 0., 0., 0., 0., 0., 0.,\n",
       "        0., 0., 0., 0., 0., 0., 0., 0., 0., 0., 0., 0., 0., 0., 0., 0.,\n",
       "        0., 0., 0., 0., 0., 0., 0., 0., 0., 0., 0., 0., 0., 0., 0., 0.,\n",
       "        0., 0., 0., 0.],\n",
       "       [0., 0., 0., 0., 0., 0., 0., 0., 0., 0., 0., 0., 0., 0., 0., 0.,\n",
       "        0., 0., 0., 0., 0., 0., 0., 0., 0., 0., 0., 0., 0., 0., 0., 0.,\n",
       "        0., 0., 0., 0., 0., 0., 0., 0., 0., 0., 0., 0., 0., 0., 0., 0.,\n",
       "        0., 0., 0., 0., 0., 0., 0., 0., 0., 0., 0., 0., 0., 0., 0., 0.,\n",
       "        0., 0., 0., 0., 0., 0., 0., 0., 0., 0., 0., 0., 0., 0., 0., 0.,\n",
       "        0., 0., 0., 0., 0., 0., 0., 0., 0., 0., 0., 0., 0., 0., 0., 0.,\n",
       "        0., 0., 0., 0.],\n",
       "       [0., 0., 0., 0., 0., 0., 0., 0., 0., 0., 0., 0., 0., 0., 0., 0.,\n",
       "        0., 0., 0., 0., 0., 0., 0., 0., 0., 0., 0., 0., 0., 0., 0., 0.,\n",
       "        0., 0., 0., 0., 0., 0., 0., 0., 0., 0., 0., 0., 0., 0., 0., 0.,\n",
       "        0., 0., 0., 0., 0., 0., 0., 0., 0., 0., 0., 0., 0., 0., 0., 0.,\n",
       "        0., 0., 0., 0., 0., 0., 0., 0., 0., 0., 0., 0., 0., 0., 0., 0.,\n",
       "        0., 0., 0., 0., 0., 0., 0., 0., 0., 0., 0., 0., 0., 0., 0., 0.,\n",
       "        0., 0., 0., 0.],\n",
       "       [0., 0., 0., 0., 0., 0., 0., 0., 0., 0., 0., 0., 0., 0., 0., 0.,\n",
       "        0., 0., 0., 0., 0., 0., 0., 0., 0., 0., 0., 0., 0., 0., 0., 0.,\n",
       "        0., 0., 0., 0., 0., 0., 0., 0., 0., 0., 0., 0., 0., 0., 0., 0.,\n",
       "        0., 0., 0., 0., 0., 0., 0., 0., 0., 0., 0., 0., 0., 0., 0., 0.,\n",
       "        0., 0., 0., 0., 0., 0., 0., 0., 0., 0., 0., 0., 0., 0., 0., 0.,\n",
       "        0., 0., 0., 0., 0., 0., 0., 0., 0., 0., 0., 0., 0., 0., 0., 0.,\n",
       "        0., 0., 0., 0.],\n",
       "       [0., 0., 0., 0., 0., 0., 0., 0., 0., 0., 0., 0., 0., 0., 0., 0.,\n",
       "        0., 0., 0., 0., 0., 0., 0., 0., 0., 0., 0., 0., 0., 0., 0., 0.,\n",
       "        0., 0., 0., 0., 0., 0., 0., 0., 0., 0., 0., 0., 0., 0., 0., 0.,\n",
       "        0., 0., 0., 0., 0., 0., 0., 0., 0., 0., 0., 0., 0., 0., 0., 0.,\n",
       "        0., 0., 0., 0., 0., 0., 0., 0., 0., 0., 0., 0., 0., 0., 0., 0.,\n",
       "        0., 0., 0., 0., 0., 0., 0., 0., 0., 0., 0., 0., 0., 0., 0., 0.,\n",
       "        0., 0., 0., 0.],\n",
       "       [0., 0., 0., 0., 0., 0., 0., 0., 0., 0., 0., 0., 0., 0., 0., 0.,\n",
       "        0., 0., 0., 0., 0., 0., 0., 0., 0., 0., 0., 0., 0., 0., 0., 0.,\n",
       "        0., 0., 0., 0., 0., 0., 0., 0., 0., 0., 0., 0., 0., 0., 0., 0.,\n",
       "        0., 0., 0., 0., 0., 0., 0., 0., 0., 0., 0., 0., 0., 0., 0., 0.,\n",
       "        0., 0., 0., 0., 0., 0., 0., 0., 0., 0., 0., 0., 0., 0., 0., 0.,\n",
       "        0., 0., 0., 0., 0., 0., 0., 0., 0., 0., 0., 0., 0., 0., 0., 0.,\n",
       "        0., 0., 0., 0.],\n",
       "       [0., 0., 0., 0., 0., 0., 0., 0., 0., 0., 0., 0., 0., 0., 0., 0.,\n",
       "        0., 0., 0., 0., 0., 0., 0., 0., 0., 0., 0., 0., 0., 0., 0., 0.,\n",
       "        0., 0., 0., 0., 0., 0., 0., 0., 0., 0., 0., 0., 0., 0., 0., 0.,\n",
       "        0., 0., 0., 0., 0., 0., 0., 0., 0., 0., 0., 0., 0., 0., 0., 0.,\n",
       "        0., 0., 0., 0., 0., 0., 0., 0., 0., 0., 0., 0., 0., 0., 0., 0.,\n",
       "        0., 0., 0., 0., 0., 0., 0., 0., 0., 0., 0., 0., 0., 0., 0., 0.,\n",
       "        0., 0., 0., 0.],\n",
       "       [0., 0., 0., 0., 0., 0., 0., 0., 0., 0., 0., 0., 0., 0., 0., 0.,\n",
       "        0., 0., 0., 0., 0., 0., 0., 0., 0., 0., 0., 0., 0., 0., 0., 0.,\n",
       "        0., 0., 0., 0., 0., 0., 0., 0., 0., 0., 0., 0., 0., 0., 0., 0.,\n",
       "        0., 0., 0., 0., 0., 0., 0., 0., 0., 0., 0., 0., 0., 0., 0., 0.,\n",
       "        0., 0., 0., 0., 0., 0., 0., 0., 0., 0., 0., 0., 0., 0., 0., 0.,\n",
       "        0., 0., 0., 0., 0., 0., 0., 0., 0., 0., 0., 0., 0., 0., 0., 0.,\n",
       "        0., 0., 0., 0.]], dtype=float32)>"
      ]
     },
     "execution_count": 12,
     "metadata": {},
     "output_type": "execute_result"
    }
   ],
   "source": [
    "layer = tf.keras.layers.Dense(100)\n",
    "layer = tf.keras.layers.Dense(100, input_shape=[None, 5])\n",
    "layer(tf.zeros([10, 5]))"
   ]
  },
  {
   "cell_type": "code",
   "execution_count": 13,
   "metadata": {},
   "outputs": [
    {
     "data": {
      "text/plain": [
       "[<tf.Variable 'dense_5/kernel:0' shape=(5, 100) dtype=float32, numpy=\n",
       " array([[ 0.06327258,  0.15230326,  0.18318363, -0.13892668,  0.20727323,\n",
       "          0.12572865, -0.16776356, -0.03306496, -0.15414892, -0.03890982,\n",
       "          0.16549934, -0.1412297 ,  0.106721  , -0.03397965,  0.22453742,\n",
       "          0.05938585, -0.0194921 ,  0.01710699, -0.1572889 , -0.08359849,\n",
       "         -0.15828678, -0.22063746,  0.05832998, -0.17600355,  0.02723579,\n",
       "         -0.11114416,  0.2314326 , -0.06830542,  0.04147132, -0.14149313,\n",
       "          0.18829493, -0.05387622,  0.13743   , -0.08456419, -0.19863631,\n",
       "         -0.19908923, -0.07676817,  0.02208631, -0.17562044, -0.15802261,\n",
       "         -0.10067461,  0.18195327, -0.19834274, -0.20890011, -0.13544157,\n",
       "          0.07843028,  0.10764794, -0.15540591, -0.02592877,  0.10799302,\n",
       "         -0.19931617,  0.05056055,  0.09564139, -0.14544564,  0.01708014,\n",
       "         -0.21476895,  0.07780488, -0.17345762,  0.11302795, -0.15195629,\n",
       "         -0.10891864, -0.17838117, -0.15698928,  0.02807547,  0.18505387,\n",
       "         -0.13395496, -0.18518694, -0.08054949, -0.18310669,  0.06051134,\n",
       "          0.08327399,  0.20369278, -0.1718682 ,  0.00784957, -0.2038384 ,\n",
       "         -0.20535138, -0.04000038,  0.21035184, -0.03803076, -0.02047318,\n",
       "         -0.03189826, -0.04975832, -0.15002212,  0.21451248, -0.04129001,\n",
       "          0.07521836, -0.00360048, -0.11493345,  0.10945334, -0.155137  ,\n",
       "          0.08602442,  0.18220349,  0.1446852 ,  0.11799346, -0.10064013,\n",
       "          0.21133752, -0.06784667,  0.15315844,  0.14605696, -0.2302043 ],\n",
       "        [-0.00616258, -0.10518584, -0.06788161,  0.18687661,  0.11044316,\n",
       "         -0.09089206,  0.17267232, -0.02069426,  0.10510917, -0.2309709 ,\n",
       "         -0.09628126, -0.14098355, -0.1687716 , -0.11386535,  0.2091413 ,\n",
       "         -0.18435849, -0.03941353,  0.08393715, -0.0511083 ,  0.09579299,\n",
       "         -0.13505098, -0.2173668 , -0.21856155, -0.01129298,  0.15596391,\n",
       "         -0.23832858,  0.21290658, -0.14826554,  0.04638343, -0.01218611,\n",
       "          0.04174642, -0.19308753,  0.2214487 , -0.18135644,  0.13939853,\n",
       "          0.09881754,  0.10436992,  0.01228227,  0.13704248,  0.15757324,\n",
       "         -0.12802136, -0.08427973,  0.16286789, -0.11853671,  0.14695738,\n",
       "         -0.2294288 ,  0.19150855,  0.14325364,  0.0833597 ,  0.01669665,\n",
       "          0.17368843, -0.19952773, -0.07270174, -0.21497937,  0.06832485,\n",
       "         -0.23338154,  0.21632315,  0.15409656, -0.23663989,  0.06183089,\n",
       "          0.16079254, -0.10188583,  0.10932665,  0.11653517,  0.1467879 ,\n",
       "          0.09516568, -0.16390236,  0.13737448,  0.02880634,  0.13674362,\n",
       "         -0.14197984,  0.03429927,  0.09399919, -0.05568251, -0.12752986,\n",
       "          0.04144533, -0.08271836, -0.06927441, -0.06435849, -0.00689831,\n",
       "         -0.17821653,  0.17913975, -0.22338189, -0.14144662,  0.01079293,\n",
       "         -0.21307877, -0.07777086,  0.16736649,  0.06361975, -0.10769118,\n",
       "         -0.09498695, -0.15290761, -0.08071625, -0.11392301, -0.02406733,\n",
       "         -0.10762531, -0.07766041,  0.12495519, -0.0946162 , -0.09214734],\n",
       "        [-0.01226693, -0.06818117,  0.01831104, -0.13101566,  0.01661588,\n",
       "         -0.23651598,  0.0897456 ,  0.05956419, -0.22143075,  0.08576788,\n",
       "          0.15592699, -0.07979548,  0.10346483,  0.14919697, -0.07001281,\n",
       "          0.0246381 ,  0.04887007, -0.01670417, -0.15009211,  0.1223426 ,\n",
       "         -0.0938219 , -0.13587517, -0.23662381, -0.231743  , -0.19630614,\n",
       "          0.13124062,  0.14992727, -0.12649208,  0.05563207, -0.07244703,\n",
       "          0.20132442, -0.05654566,  0.11954145, -0.09648894,  0.22422494,\n",
       "         -0.07780643, -0.02651392,  0.19798036,  0.08926342,  0.1070434 ,\n",
       "         -0.2276261 ,  0.04211636, -0.13165832, -0.22075708, -0.0169314 ,\n",
       "         -0.0712935 , -0.00662406,  0.19668292, -0.14361829, -0.0751949 ,\n",
       "         -0.18980308,  0.07908596,  0.08141737, -0.19182536, -0.03871143,\n",
       "         -0.03533979,  0.15958957,  0.06956877, -0.07937805, -0.01880772,\n",
       "          0.14350732, -0.05159047,  0.19938599, -0.01166788,  0.01007396,\n",
       "         -0.08713251,  0.02421089, -0.20554247,  0.18829612, -0.11324611,\n",
       "          0.17191295,  0.17281874, -0.07889111,  0.22192283, -0.0278357 ,\n",
       "         -0.23501228,  0.10569711,  0.0053432 ,  0.14919303, -0.13523085,\n",
       "         -0.08286096, -0.19288662,  0.23076437, -0.10584877,  0.02480926,\n",
       "          0.06927191,  0.09822641,  0.17531244, -0.1343302 , -0.21588978,\n",
       "         -0.20644638, -0.06978165, -0.05948958, -0.0869689 ,  0.14741753,\n",
       "         -0.10866605,  0.05916385, -0.01015283,  0.11578257, -0.13490918],\n",
       "        [ 0.13093586, -0.16056126, -0.18863222,  0.04394145, -0.20157075,\n",
       "         -0.07358643, -0.19780746, -0.09413964,  0.05798315, -0.10492161,\n",
       "          0.21500964, -0.00661552, -0.15511638, -0.14825699,  0.21697013,\n",
       "         -0.08890814, -0.20702903,  0.22677748,  0.1776927 ,  0.00966436,\n",
       "          0.15846972, -0.08109064,  0.02600102,  0.02447949, -0.17665201,\n",
       "          0.09927692, -0.11757234, -0.16304827, -0.21009006,  0.05000015,\n",
       "         -0.09376746, -0.02528253, -0.1594536 , -0.13304843,  0.22972454,\n",
       "         -0.10588041,  0.11309852,  0.00605242,  0.01105435, -0.19077235,\n",
       "         -0.11348286, -0.00928301, -0.17315036,  0.17370217,  0.04722844,\n",
       "         -0.08543995, -0.01827987,  0.00153694, -0.1333921 ,  0.17126743,\n",
       "          0.20638512, -0.0706069 , -0.11053953, -0.02691589,  0.0174493 ,\n",
       "         -0.02023391, -0.09767678,  0.09030886,  0.03466426, -0.1431025 ,\n",
       "          0.10322277, -0.01184963, -0.14087664,  0.23100145,  0.21104236,\n",
       "          0.0297346 , -0.16382736, -0.20881559,  0.16220407,  0.17900799,\n",
       "          0.20128898,  0.18882902,  0.01316063,  0.1426266 , -0.11730846,\n",
       "          0.17301057, -0.23155047, -0.09450598, -0.09661649, -0.109056  ,\n",
       "          0.10886119,  0.12795691,  0.09344928, -0.12138271,  0.14329486,\n",
       "          0.1184303 , -0.0779909 , -0.02585092, -0.12330816, -0.11322224,\n",
       "          0.07825206,  0.15370278, -0.03632987, -0.0841254 , -0.00917849,\n",
       "         -0.18500337, -0.08182955,  0.13824703,  0.18103193,  0.23369552],\n",
       "        [ 0.08342381, -0.13504437, -0.11718718,  0.02532624,  0.07076649,\n",
       "         -0.20480967,  0.01796897,  0.14964284,  0.16899876,  0.03458931,\n",
       "         -0.07912865,  0.15434094,  0.14853005, -0.09025362, -0.02509576,\n",
       "         -0.12095761,  0.19441114, -0.15230516,  0.11481787,  0.16657601,\n",
       "          0.10807903, -0.02958219,  0.04276516,  0.13129173,  0.07064663,\n",
       "          0.12481831,  0.18917091, -0.09298791,  0.2259141 ,  0.02231012,\n",
       "          0.07775514, -0.09779242,  0.23450144,  0.22195558, -0.21854058,\n",
       "          0.16805212,  0.02305155, -0.15085365, -0.1629989 , -0.03754416,\n",
       "          0.03671376,  0.169118  , -0.11193585,  0.04916479, -0.14763936,\n",
       "          0.1144429 ,  0.14843242,  0.08669607, -0.03862417, -0.23438615,\n",
       "         -0.06303875, -0.08115675,  0.22106986,  0.01350369,  0.08817281,\n",
       "         -0.2037545 ,  0.09560333,  0.06656776,  0.17791288, -0.15621042,\n",
       "          0.12736516,  0.16958432, -0.23815913,  0.1656758 ,  0.16877012,\n",
       "         -0.02974626,  0.13152124, -0.04740189,  0.11588575, -0.19215074,\n",
       "         -0.10943921,  0.00398347,  0.22868459, -0.09685494, -0.11711913,\n",
       "          0.19299977, -0.21334949,  0.16106679, -0.00962982,  0.11342667,\n",
       "         -0.18322593, -0.00969404,  0.17052038, -0.2188537 , -0.10788159,\n",
       "         -0.12974848,  0.11803924, -0.16654438,  0.16023703,  0.139255  ,\n",
       "          0.05930753, -0.09890367,  0.14413105,  0.06035785, -0.11102243,\n",
       "         -0.04925342, -0.16185887, -0.09268466, -0.10276106, -0.1638689 ]],\n",
       "       dtype=float32)>,\n",
       " <tf.Variable 'dense_5/bias:0' shape=(100,) dtype=float32, numpy=\n",
       " array([0., 0., 0., 0., 0., 0., 0., 0., 0., 0., 0., 0., 0., 0., 0., 0., 0.,\n",
       "        0., 0., 0., 0., 0., 0., 0., 0., 0., 0., 0., 0., 0., 0., 0., 0., 0.,\n",
       "        0., 0., 0., 0., 0., 0., 0., 0., 0., 0., 0., 0., 0., 0., 0., 0., 0.,\n",
       "        0., 0., 0., 0., 0., 0., 0., 0., 0., 0., 0., 0., 0., 0., 0., 0., 0.,\n",
       "        0., 0., 0., 0., 0., 0., 0., 0., 0., 0., 0., 0., 0., 0., 0., 0., 0.,\n",
       "        0., 0., 0., 0., 0., 0., 0., 0., 0., 0., 0., 0., 0., 0., 0.],\n",
       "       dtype=float32)>]"
      ]
     },
     "execution_count": 13,
     "metadata": {},
     "output_type": "execute_result"
    }
   ],
   "source": [
    "# layer.variables\n",
    "layer.trainable_variables"
   ]
  },
  {
   "cell_type": "code",
   "execution_count": 14,
   "metadata": {},
   "outputs": [
    {
     "name": "stdout",
     "output_type": "stream",
     "text": [
      ".. _california_housing_dataset:\n",
      "\n",
      "California Housing dataset\n",
      "--------------------------\n",
      "\n",
      "**Data Set Characteristics:**\n",
      "\n",
      "    :Number of Instances: 20640\n",
      "\n",
      "    :Number of Attributes: 8 numeric, predictive attributes and the target\n",
      "\n",
      "    :Attribute Information:\n",
      "        - MedInc        median income in block\n",
      "        - HouseAge      median house age in block\n",
      "        - AveRooms      average number of rooms\n",
      "        - AveBedrms     average number of bedrooms\n",
      "        - Population    block population\n",
      "        - AveOccup      average house occupancy\n",
      "        - Latitude      house block latitude\n",
      "        - Longitude     house block longitude\n",
      "\n",
      "    :Missing Attribute Values: None\n",
      "\n",
      "This dataset was obtained from the StatLib repository.\n",
      "http://lib.stat.cmu.edu/datasets/\n",
      "\n",
      "The target variable is the median house value for California districts.\n",
      "\n",
      "This dataset was derived from the 1990 U.S. census, using one row per census\n",
      "block group. A block group is the smallest geographical unit for which the U.S.\n",
      "Census Bureau publishes sample data (a block group typically has a population\n",
      "of 600 to 3,000 people).\n",
      "\n",
      "It can be downloaded/loaded using the\n",
      ":func:`sklearn.datasets.fetch_california_housing` function.\n",
      "\n",
      ".. topic:: References\n",
      "\n",
      "    - Pace, R. Kelley and Ronald Barry, Sparse Spatial Autoregressions,\n",
      "      Statistics and Probability Letters, 33 (1997) 291-297\n",
      "\n",
      "(20640, 8)\n",
      "(20640,)\n"
     ]
    }
   ],
   "source": [
    "from sklearn.datasets import fetch_california_housing\n",
    "\n",
    "housing = fetch_california_housing()\n",
    "print(housing.DESCR)\n",
    "print(housing.data.shape)\n",
    "print(housing.target.shape)"
   ]
  },
  {
   "cell_type": "code",
   "execution_count": 15,
   "metadata": {},
   "outputs": [
    {
     "name": "stdout",
     "output_type": "stream",
     "text": [
      "(11610, 8) (11610,)\n",
      "(3870, 8) (3870,)\n",
      "(5160, 8) (5160,)\n"
     ]
    }
   ],
   "source": [
    "from sklearn.model_selection import train_test_split\n",
    "\n",
    "x_train_all, x_test, y_train_all, y_test = train_test_split(\n",
    "    housing.data, housing.target, random_state = 7)\n",
    "x_train, x_valid, y_train, y_valid = train_test_split(\n",
    "    x_train_all, y_train_all, random_state = 11)\n",
    "print(x_train.shape, y_train.shape)\n",
    "print(x_valid.shape, y_valid.shape)\n",
    "print(x_test.shape, y_test.shape)\n"
   ]
  },
  {
   "cell_type": "code",
   "execution_count": 16,
   "metadata": {},
   "outputs": [],
   "source": [
    "from sklearn.preprocessing import StandardScaler\n",
    "\n",
    "scaler = StandardScaler()\n",
    "x_train_scaled = scaler.fit_transform(x_train)\n",
    "x_valid_scaled = scaler.transform(x_valid)\n",
    "x_test_scaled = scaler.transform(x_test)"
   ]
  },
  {
   "cell_type": "code",
   "execution_count": 25,
   "metadata": {},
   "outputs": [
    {
     "name": "stdout",
     "output_type": "stream",
     "text": [
      "tf.Tensor([4.5417706e-05 6.7153489e-03 6.9314718e-01 5.0067153e+00 1.0000046e+01], shape=(5,), dtype=float32)\n"
     ]
    }
   ],
   "source": [
    "customized_softplus = keras.layers.Lambda(lambda x : tf.nn.softplus(x))\n",
    "print(customized_softplus([-10., -5., 0., 5., 10.]))"
   ]
  },
  {
   "cell_type": "code",
   "execution_count": 26,
   "metadata": {},
   "outputs": [
    {
     "name": "stdout",
     "output_type": "stream",
     "text": [
      "Model: \"sequential_2\"\n",
      "_________________________________________________________________\n",
      "Layer (type)                 Output Shape              Param #   \n",
      "=================================================================\n",
      "customized_dense_layer_2 (Cu (None, 30)                270       \n",
      "_________________________________________________________________\n",
      "customized_dense_layer_3 (Cu (None, 1)                 31        \n",
      "_________________________________________________________________\n",
      "lambda_1 (Lambda)            (None, 1)                 0         \n",
      "=================================================================\n",
      "Total params: 301\n",
      "Trainable params: 301\n",
      "Non-trainable params: 0\n",
      "_________________________________________________________________\n",
      "Train on 11610 samples, validate on 3870 samples\n",
      "Epoch 1/5\n",
      "11610/11610 [==============================] - 1s 50us/sample - loss: 1.2603 - mean_squared_error: 1.2603 - val_loss: 0.6877 - val_mean_squared_error: 0.6877\n",
      "Epoch 2/5\n",
      "11610/11610 [==============================] - 0s 32us/sample - loss: 0.6010 - mean_squared_error: 0.6010 - val_loss: 0.5956 - val_mean_squared_error: 0.5956\n",
      "Epoch 3/5\n",
      "11610/11610 [==============================] - 0s 32us/sample - loss: 0.5253 - mean_squared_error: 0.5253 - val_loss: 0.5291 - val_mean_squared_error: 0.5291\n",
      "Epoch 4/5\n",
      "11610/11610 [==============================] - 0s 33us/sample - loss: 0.4851 - mean_squared_error: 0.4851 - val_loss: 0.5033 - val_mean_squared_error: 0.5033\n",
      "Epoch 5/5\n",
      "11610/11610 [==============================] - 0s 33us/sample - loss: 0.4595 - mean_squared_error: 0.4595 - val_loss: 0.4726 - val_mean_squared_error: 0.4726\n"
     ]
    }
   ],
   "source": [
    "def customized_mse(y_true, y_pred):\n",
    "    return tf.reduce_mean(tf.square(y_pred - y_true))\n",
    "\n",
    "class CustomizedDenseLayer(keras.layers.Layer):\n",
    "    def __init__(self, units, activation=None, **kwargs):\n",
    "        self.units = units\n",
    "        self.activation = keras.layers.Activation(activation)\n",
    "        super(CustomizedDenseLayer, self).__init__(**kwargs)\n",
    "        \n",
    "    def build(self, input_shape):\n",
    "        self.kernel = self.add_weight(name='kernel', \n",
    "                                      shape=(input_shape[1], self.units),\n",
    "                                      initializer='uniform',\n",
    "                                      trainable=True)\n",
    "        self.bias = self.add_weight(name='bias', \n",
    "                                      shape=(self.units,),\n",
    "                                      initializer='zeros',\n",
    "                                      trainable=True)\n",
    "        super(CustomizedDenseLayer, self).build(input_shape)\n",
    "        \n",
    "    def call(self, x):\n",
    "        return self.activation(x @ self.kernel + self.bias)\n",
    "\n",
    "model = keras.models.Sequential([\n",
    "    CustomizedDenseLayer(30, activation='relu',\n",
    "                       input_shape=x_train.shape[1:]),\n",
    "    CustomizedDenseLayer(1),\n",
    "    customized_softplus\n",
    "])\n",
    "model.summary()\n",
    "model.compile(loss=customized_mse, optimizer='sgd', metrics=['mean_squared_error'])\n",
    "callbacks = [keras.callbacks.EarlyStopping(\n",
    "    patience=5, min_delta=1e-2)]\n",
    "history = model.fit(x_train_scaled, y_train,\n",
    "                validation_data = (x_valid_scaled, y_valid),\n",
    "                epochs = 5,\n",
    "                callbacks = callbacks)"
   ]
  },
  {
   "cell_type": "code",
   "execution_count": 22,
   "metadata": {},
   "outputs": [
    {
     "data": {
      "image/png": "[encoded data removed]",
      "text/plain": [
       "<Figure size 576x360 with 1 Axes>"
      ]
     },
     "metadata": {
      "needs_background": "light"
     },
     "output_type": "display_data"
    }
   ],
   "source": [
    "def plot_learning_curves(history):\n",
    "    pd.DataFrame(history.history).plot(figsize=(8, 5))\n",
    "    plt.grid(True)\n",
    "    plt.gca().set_ylim(0, 4)\n",
    "    plt.show()\n",
    "plot_learning_curves(history)"
   ]
  },
  {
   "cell_type": "code",
   "execution_count": 23,
   "metadata": {},
   "outputs": [
    {
     "name": "stdout",
     "output_type": "stream",
     "text": [
      "5160/5160 [==============================] - 0s 17us/sample - loss: 0.4642 - mean_squared_error: 0.4642\n"
     ]
    },
    {
     "data": {
      "text/plain": [
       "[0.4642320898152137, 0.46423203]"
      ]
     },
     "execution_count": 23,
     "metadata": {},
     "output_type": "execute_result"
    }
   ],
   "source": [
    "model.evaluate(x_test_scaled, y_test)"
   ]
  },
  {
   "cell_type": "code",
   "execution_count": null,
   "metadata": {},
   "outputs": [],
   "source": []
  }
 ],
 "metadata": {
  "kernelspec": {
   "display_name": "Python 3",
   "language": "python",
   "name": "python3"
  },
  "language_info": {
   "codemirror_mode": {
    "name": "ipython",
    "version": 3
   },
   "file_extension": ".py",
   "mimetype": "text/x-python",
   "name": "python",
   "nbconvert_exporter": "python",
   "pygments_lexer": "ipython3",
   "version": "3.7.1"
  }
 },
 "nbformat": 4,
 "nbformat_minor": 2
}
