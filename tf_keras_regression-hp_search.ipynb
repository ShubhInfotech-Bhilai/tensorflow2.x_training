{
 "cells": [
  {
   "cell_type": "code",
   "execution_count": 1,
   "metadata": {},
   "outputs": [
    {
     "name": "stdout",
     "output_type": "stream",
     "text": [
      "2.1.0\n",
      "sys.version_info(major=3, minor=7, micro=1, releaselevel='final', serial=0)\n",
      "matplotlib 3.0.2\n",
      "numpy 1.18.1\n",
      "pandas 1.0.1\n",
      "sklearn 0.20.1\n",
      "tensorflow 2.1.0\n",
      "tensorflow_core.python.keras.api._v2.keras 2.2.4-tf\n"
     ]
    }
   ],
   "source": [
    "import matplotlib as mpl\n",
    "import matplotlib.pyplot as plt\n",
    "%matplotlib inline\n",
    "import numpy as np\n",
    "import sklearn\n",
    "import pandas as pd\n",
    "import os\n",
    "import sys\n",
    "import time\n",
    "import tensorflow as tf\n",
    "\n",
    "from tensorflow import keras\n",
    "\n",
    "print(tf.__version__)\n",
    "print(sys.version_info)\n",
    "for module in mpl, np, pd, sklearn, tf, keras:\n",
    "    print(module.__name__, module.__version__)"
   ]
  },
  {
   "cell_type": "code",
   "execution_count": 2,
   "metadata": {},
   "outputs": [
    {
     "name": "stdout",
     "output_type": "stream",
     "text": [
      ".. _california_housing_dataset:\n",
      "\n",
      "California Housing dataset\n",
      "--------------------------\n",
      "\n",
      "**Data Set Characteristics:**\n",
      "\n",
      "    :Number of Instances: 20640\n",
      "\n",
      "    :Number of Attributes: 8 numeric, predictive attributes and the target\n",
      "\n",
      "    :Attribute Information:\n",
      "        - MedInc        median income in block\n",
      "        - HouseAge      median house age in block\n",
      "        - AveRooms      average number of rooms\n",
      "        - AveBedrms     average number of bedrooms\n",
      "        - Population    block population\n",
      "        - AveOccup      average house occupancy\n",
      "        - Latitude      house block latitude\n",
      "        - Longitude     house block longitude\n",
      "\n",
      "    :Missing Attribute Values: None\n",
      "\n",
      "This dataset was obtained from the StatLib repository.\n",
      "http://lib.stat.cmu.edu/datasets/\n",
      "\n",
      "The target variable is the median house value for California districts.\n",
      "\n",
      "This dataset was derived from the 1990 U.S. census, using one row per census\n",
      "block group. A block group is the smallest geographical unit for which the U.S.\n",
      "Census Bureau publishes sample data (a block group typically has a population\n",
      "of 600 to 3,000 people).\n",
      "\n",
      "It can be downloaded/loaded using the\n",
      ":func:`sklearn.datasets.fetch_california_housing` function.\n",
      "\n",
      ".. topic:: References\n",
      "\n",
      "    - Pace, R. Kelley and Ronald Barry, Sparse Spatial Autoregressions,\n",
      "      Statistics and Probability Letters, 33 (1997) 291-297\n",
      "\n",
      "(20640, 8)\n",
      "(20640,)\n"
     ]
    }
   ],
   "source": [
    "from sklearn.datasets import fetch_california_housing\n",
    "\n",
    "housing = fetch_california_housing()\n",
    "print(housing.DESCR)\n",
    "print(housing.data.shape)\n",
    "print(housing.target.shape)"
   ]
  },
  {
   "cell_type": "code",
   "execution_count": 3,
   "metadata": {},
   "outputs": [
    {
     "name": "stdout",
     "output_type": "stream",
     "text": [
      "array([[ 8.32520000e+00,  4.10000000e+01,  6.98412698e+00,\n",
      "         1.02380952e+00,  3.22000000e+02,  2.55555556e+00,\n",
      "         3.78800000e+01, -1.22230000e+02],\n",
      "       [ 8.30140000e+00,  2.10000000e+01,  6.23813708e+00,\n",
      "         9.71880492e-01,  2.40100000e+03,  2.10984183e+00,\n",
      "         3.78600000e+01, -1.22220000e+02],\n",
      "       [ 7.25740000e+00,  5.20000000e+01,  8.28813559e+00,\n",
      "         1.07344633e+00,  4.96000000e+02,  2.80225989e+00,\n",
      "         3.78500000e+01, -1.22240000e+02],\n",
      "       [ 5.64310000e+00,  5.20000000e+01,  5.81735160e+00,\n",
      "         1.07305936e+00,  5.58000000e+02,  2.54794521e+00,\n",
      "         3.78500000e+01, -1.22250000e+02],\n",
      "       [ 3.84620000e+00,  5.20000000e+01,  6.28185328e+00,\n",
      "         1.08108108e+00,  5.65000000e+02,  2.18146718e+00,\n",
      "         3.78500000e+01, -1.22250000e+02]])\n",
      "array([4.526, 3.585, 3.521, 3.413, 3.422])\n"
     ]
    }
   ],
   "source": [
    "import pprint\n",
    "\n",
    "pprint.pprint(housing.data[0:5])\n",
    "pprint.pprint(housing.target[0:5])"
   ]
  },
  {
   "cell_type": "code",
   "execution_count": 4,
   "metadata": {},
   "outputs": [
    {
     "name": "stdout",
     "output_type": "stream",
     "text": [
      "(11610, 8) (11610,)\n",
      "(3870, 8) (3870,)\n",
      "(5160, 8) (5160,)\n"
     ]
    }
   ],
   "source": [
    "from sklearn.model_selection import train_test_split\n",
    "\n",
    "x_train_all, x_test, y_train_all, y_test = train_test_split(\n",
    "    housing.data, housing.target, random_state = 7)\n",
    "x_train, x_valid, y_train, y_valid = train_test_split(\n",
    "    x_train_all, y_train_all, random_state = 11)\n",
    "print(x_train.shape, y_train.shape)\n",
    "print(x_valid.shape, y_valid.shape)\n",
    "print(x_test.shape, y_test.shape)\n"
   ]
  },
  {
   "cell_type": "code",
   "execution_count": 5,
   "metadata": {},
   "outputs": [],
   "source": [
    "from sklearn.preprocessing import StandardScaler\n",
    "\n",
    "scaler = StandardScaler()\n",
    "x_train_scaled = scaler.fit_transform(x_train)\n",
    "x_valid_scaled = scaler.transform(x_valid)\n",
    "x_test_scaled = scaler.transform(x_test)"
   ]
  },
  {
   "cell_type": "code",
   "execution_count": 11,
   "metadata": {},
   "outputs": [
    {
     "name": "stdout",
     "output_type": "stream",
     "text": [
      "Train on 11610 samples, validate on 3870 samples\n",
      "Epoch 1/5\n",
      "11610/11610 [==============================] - 1s 121us/sample - loss: 5.1421 - val_loss: 4.6997\n",
      "Epoch 2/5\n",
      "11610/11610 [==============================] - 1s 50us/sample - loss: 3.8262 - val_loss: 3.6653\n",
      "Epoch 3/5\n",
      "11610/11610 [==============================] - 0s 37us/sample - loss: 3.0322 - val_loss: 2.9983\n",
      "Epoch 4/5\n",
      "11610/11610 [==============================] - 0s 32us/sample - loss: 2.5088 - val_loss: 2.5328\n",
      "Epoch 5/5\n",
      "11610/11610 [==============================] - 0s 35us/sample - loss: 2.1371 - val_loss: 2.1849\n",
      "Train on 11610 samples, validate on 3870 samples\n",
      "Epoch 1/5\n",
      "11610/11610 [==============================] - 1s 48us/sample - loss: 4.1567 - val_loss: 2.6153\n",
      "Epoch 2/5\n",
      "11610/11610 [==============================] - 0s 33us/sample - loss: 1.8213 - val_loss: 1.3398\n",
      "Epoch 3/5\n",
      "11610/11610 [==============================] - 0s 32us/sample - loss: 1.0907 - val_loss: 0.9369\n",
      "Epoch 4/5\n",
      "11610/11610 [==============================] - 0s 32us/sample - loss: 0.8462 - val_loss: 0.8038\n",
      "Epoch 5/5\n",
      "11610/11610 [==============================] - 0s 31us/sample - loss: 0.7544 - val_loss: 0.7554\n",
      "Train on 11610 samples, validate on 3870 samples\n",
      "Epoch 1/5\n",
      "11610/11610 [==============================] - 1s 47us/sample - loss: 1.9180 - val_loss: 1.0335\n",
      "Epoch 2/5\n",
      "11610/11610 [==============================] - 0s 32us/sample - loss: 0.8020 - val_loss: 0.7701\n",
      "Epoch 3/5\n",
      "11610/11610 [==============================] - 0s 32us/sample - loss: 0.6762 - val_loss: 0.7091\n",
      "Epoch 4/5\n",
      "11610/11610 [==============================] - 0s 32us/sample - loss: 0.6349 - val_loss: 0.6754\n",
      "Epoch 5/5\n",
      "11610/11610 [==============================] - 0s 32us/sample - loss: 0.6086 - val_loss: 0.6511\n",
      "Train on 11610 samples, validate on 3870 samples\n",
      "Epoch 1/5\n",
      "11610/11610 [==============================] - 1s 45us/sample - loss: 1.2877 - val_loss: 0.7579\n",
      "Epoch 2/5\n",
      "11610/11610 [==============================] - 0s 32us/sample - loss: 0.6511 - val_loss: 0.6590\n",
      "Epoch 3/5\n",
      "11610/11610 [==============================] - 0s 32us/sample - loss: 0.5733 - val_loss: 0.5887\n",
      "Epoch 4/5\n",
      "11610/11610 [==============================] - 0s 32us/sample - loss: 0.5294 - val_loss: 0.5516\n",
      "Epoch 5/5\n",
      "11610/11610 [==============================] - 0s 33us/sample - loss: 0.5002 - val_loss: 0.5256\n",
      "Train on 11610 samples, validate on 3870 samples\n",
      "Epoch 1/5\n",
      "11610/11610 [==============================] - 1s 49us/sample - loss: 0.7108 - val_loss: 0.6174\n",
      "Epoch 2/5\n",
      "11610/11610 [==============================] - 0s 34us/sample - loss: 1.9945 - val_loss: 0.4764\n",
      "Epoch 3/5\n",
      "11610/11610 [==============================] - 0s 32us/sample - loss: 0.4214 - val_loss: 0.4158\n",
      "Epoch 4/5\n",
      "11610/11610 [==============================] - 0s 32us/sample - loss: 0.3890 - val_loss: 0.3991\n",
      "Epoch 5/5\n",
      "11610/11610 [==============================] - 0s 33us/sample - loss: 0.3791 - val_loss: 0.3883\n",
      "Train on 11610 samples, validate on 3870 samples\n",
      "Epoch 1/5\n",
      "11610/11610 [==============================] - 1s 51us/sample - loss: nan - val_loss: nan\n",
      "Epoch 2/5\n",
      " 6368/11610 [===============>..............] - ETA: 0s - loss: nan"
     ]
    },
    {
     "name": "stderr",
     "output_type": "stream",
     "text": [
      "H:\\Anaconda3\\lib\\site-packages\\tensorflow_core\\python\\keras\\callbacks.py:1261: RuntimeWarning: invalid value encountered in less\n",
      "  if self.monitor_op(current - self.min_delta, self.best):\n"
     ]
    },
    {
     "name": "stdout",
     "output_type": "stream",
     "text": [
      "11610/11610 [==============================] - 0s 30us/sample - loss: nan - val_loss: nan\n",
      "Epoch 3/5\n",
      "11610/11610 [==============================] - 0s 31us/sample - loss: nan - val_loss: nan\n",
      "Epoch 4/5\n",
      "11610/11610 [==============================] - 0s 30us/sample - loss: nan - val_loss: nan\n",
      "Epoch 5/5\n",
      "11610/11610 [==============================] - 0s 30us/sample - loss: nan - val_loss: nan\n"
     ]
    }
   ],
   "source": [
    "learning_rate = [1e-4, 3e-4, 1e-3, 3e-3, 1e-2, 3e-2]\n",
    "histories = []\n",
    "for lr in learning_rate:\n",
    "    model = keras.models.Sequential([\n",
    "        keras.layers.Dense(30, activation='relu',\n",
    "                           input_shape=x_train.shape[1:]),\n",
    "        keras.layers.Dense(1),\n",
    "    ])\n",
    "#     model.summary()\n",
    "#     model.compile(loss=\"mean_squared_error\", optimizer=\"sgd\")\n",
    "    optimizer = keras.optimizers.SGD(lr)\n",
    "    model.compile(loss=\"mean_squared_error\", optimizer=optimizer)\n",
    "    callbacks = [keras.callbacks.EarlyStopping(\n",
    "        patience=5, min_delta=1e-2)]\n",
    "    history = model.fit(x_train_scaled, y_train,\n",
    "                    validation_data = (x_valid_scaled, y_valid),\n",
    "                    epochs = 5,\n",
    "                    callbacks = callbacks)\n",
    "    histories.append(history)"
   ]
  },
  {
   "cell_type": "code",
   "execution_count": 14,
   "metadata": {},
   "outputs": [
    {
     "name": "stdout",
     "output_type": "stream",
     "text": [
      "lr: 0.0001\n"
     ]
    },
    {
     "data": {
      "image/png": "[encoded data removed]",
      "text/plain": [
       "<Figure size 576x360 with 1 Axes>"
      ]
     },
     "metadata": {
      "needs_background": "light"
     },
     "output_type": "display_data"
    },
    {
     "name": "stdout",
     "output_type": "stream",
     "text": [
      "lr: 0.0003\n"
     ]
    },
    {
     "data": {
      "image/png": "[encoded data removed]",
      "text/plain": [
       "<Figure size 576x360 with 1 Axes>"
      ]
     },
     "metadata": {
      "needs_background": "light"
     },
     "output_type": "display_data"
    },
    {
     "name": "stdout",
     "output_type": "stream",
     "text": [
      "lr: 0.001\n"
     ]
    },
    {
     "data": {
      "image/png": "[encoded data removed]",
      "text/plain": [
       "<Figure size 576x360 with 1 Axes>"
      ]
     },
     "metadata": {
      "needs_background": "light"
     },
     "output_type": "display_data"
    },
    {
     "name": "stdout",
     "output_type": "stream",
     "text": [
      "lr: 0.003\n"
     ]
    },
    {
     "data": {
      "image/png": "[encoded data removed]",
      "text/plain": [
       "<Figure size 576x360 with 1 Axes>"
      ]
     },
     "metadata": {
      "needs_background": "light"
     },
     "output_type": "display_data"
    },
    {
     "name": "stdout",
     "output_type": "stream",
     "text": [
      "lr: 0.01\n"
     ]
    },
    {
     "data": {
      "image/png": "[encoded data removed]",
      "text/plain": [
       "<Figure size 576x360 with 1 Axes>"
      ]
     },
     "metadata": {
      "needs_background": "light"
     },
     "output_type": "display_data"
    },
    {
     "name": "stdout",
     "output_type": "stream",
     "text": [
      "lr: 0.03\n"
     ]
    },
    {
     "data": {
      "image/png": "[encoded data removed]",
      "text/plain": [
       "<Figure size 576x360 with 1 Axes>"
      ]
     },
     "metadata": {
      "needs_background": "light"
     },
     "output_type": "display_data"
    }
   ],
   "source": [
    "def plot_learning_curves(history):\n",
    "    pd.DataFrame(history.history).plot(figsize=(8, 5))\n",
    "    plt.grid(True)\n",
    "    plt.gca().set_ylim(0, 4)\n",
    "    plt.show()\n",
    "for lr, history in zip(learning_rate, histories):\n",
    "    print('lr:', lr)\n",
    "    plot_learning_curves(history)"
   ]
  },
  {
   "cell_type": "code",
   "execution_count": 9,
   "metadata": {},
   "outputs": [
    {
     "name": "stdout",
     "output_type": "stream",
     "text": [
      "5160/5160 [==============================] - 0s 52us/sample - loss: 0.3915\n"
     ]
    },
    {
     "data": {
      "text/plain": [
       "0.3914947641912357"
      ]
     },
     "execution_count": 9,
     "metadata": {},
     "output_type": "execute_result"
    }
   ],
   "source": [
    "model.evaluate(x_test_scaled, y_test)"
   ]
  },
  {
   "cell_type": "code",
   "execution_count": 15,
   "metadata": {},
   "outputs": [
    {
     "name": "stdout",
     "output_type": "stream",
     "text": [
      "Train on 11610 samples, validate on 3870 samples\n",
      "Epoch 1/5\n",
      "11610/11610 [==============================] - 1s 44us/sample - loss: 1.2324 - val_loss: 0.7199\n",
      "Epoch 2/5\n",
      "11610/11610 [==============================] - 0s 30us/sample - loss: 0.6055 - val_loss: 0.6251\n",
      "Epoch 3/5\n",
      "11610/11610 [==============================] - 0s 31us/sample - loss: 0.5489 - val_loss: 0.5712\n",
      "Epoch 4/5\n",
      "11610/11610 [==============================] - 0s 30us/sample - loss: 0.5108 - val_loss: 0.5362\n",
      "Epoch 5/5\n",
      "11610/11610 [==============================] - 0s 31us/sample - loss: 0.4888 - val_loss: 0.5197\n"
     ]
    }
   ],
   "source": [
    "learning_rate = [1e-4, 3e-4, 1e-3, 3e-3, 1e-2, 3e-2]\n",
    "\n",
    "def build_model(hidden_layers=1, layer_size=30, learning_rate=3e-3):\n",
    "    model = keras.models.Sequential()\n",
    "    model.add(keras.layers.Dense(layer_size, activation='relu',\n",
    "                                input_shape=x_train.shape[1:]))\n",
    "    for _ in range(hidden_layers - 1):\n",
    "        model.add(keras.layers.Dense(layer_size, activation='relu'))\n",
    "    model.add(keras.layers.Dense(1))\n",
    "    optimizer = keras.optimizers.SGD(learning_rate)\n",
    "    model.compile(loss=\"mse\", optimizer=optimizer)\n",
    "    return model\n",
    "\n",
    "callbacks = [keras.callbacks.EarlyStopping(patience=5, min_delta=1e-2)]\n",
    "sklearn_model = keras.wrappers.scikit_learn.KerasRegressor(build_model)\n",
    "history = sklearn_model.fit(x_train_scaled, y_train,\n",
    "                validation_data = (x_valid_scaled, y_valid),\n",
    "                epochs = 5,\n",
    "                callbacks = callbacks)"
   ]
  },
  {
   "cell_type": "code",
   "execution_count": 19,
   "metadata": {},
   "outputs": [
    {
     "name": "stdout",
     "output_type": "stream",
     "text": [
      "Train on 7740 samples, validate on 3870 samples\n",
      "Epoch 1/5\n",
      "7740/7740 [==============================] - 1s 65us/sample - loss: 1.3042 - val_loss: 0.7142\n",
      "Epoch 2/5\n",
      "7740/7740 [==============================] - 0s 38us/sample - loss: 0.6471 - val_loss: 0.6410\n",
      "Epoch 3/5\n",
      "7740/7740 [==============================] - 0s 38us/sample - loss: 0.5852 - val_loss: 0.5889\n",
      "Epoch 4/5\n",
      "7740/7740 [==============================] - 0s 38us/sample - loss: 0.5416 - val_loss: 0.5569\n",
      "Epoch 5/5\n",
      "7740/7740 [==============================] - 0s 39us/sample - loss: 0.5059 - val_loss: 0.5101\n",
      "3870/3870 [==============================] - 0s 17us/sample - loss: 0.4507\n",
      "7740/7740 [==============================] - 0s 16us/sample - loss: 0.4869\n",
      "Train on 7740 samples, validate on 3870 samples\n",
      "Epoch 1/5\n",
      "7740/7740 [==============================] - 0s 63us/sample - loss: 1.3169 - val_loss: 0.7150\n",
      "Epoch 2/5\n",
      "7740/7740 [==============================] - 0s 39us/sample - loss: 0.6074 - val_loss: 0.6173\n",
      "Epoch 3/5\n",
      "7740/7740 [==============================] - 0s 38us/sample - loss: 0.5419 - val_loss: 0.5671\n",
      "Epoch 4/5\n",
      "7740/7740 [==============================] - 0s 38us/sample - loss: 0.5040 - val_loss: 0.5319\n",
      "Epoch 5/5\n",
      "7740/7740 [==============================] - 0s 38us/sample - loss: 0.4777 - val_loss: 0.5036\n",
      "3870/3870 [==============================] - 0s 17us/sample - loss: 0.4750\n",
      "7740/7740 [==============================] - 0s 17us/sample - loss: 0.4642\n",
      "Train on 7740 samples, validate on 3870 samples\n",
      "Epoch 1/5\n",
      "7740/7740 [==============================] - 1s 67us/sample - loss: 1.2398 - val_loss: 0.6810\n",
      "Epoch 2/5\n",
      "7740/7740 [==============================] - 0s 39us/sample - loss: 0.5748 - val_loss: 0.5994\n",
      "Epoch 3/5\n",
      "7740/7740 [==============================] - 0s 40us/sample - loss: 0.5147 - val_loss: 0.5462\n",
      "Epoch 4/5\n",
      "7740/7740 [==============================] - 0s 39us/sample - loss: 0.4750 - val_loss: 0.5048\n",
      "Epoch 5/5\n",
      "7740/7740 [==============================] - 0s 39us/sample - loss: 0.4465 - val_loss: 0.4799\n",
      "3870/3870 [==============================] - 0s 18us/sample - loss: 0.4740\n",
      "7740/7740 [==============================] - 0s 16us/sample - loss: 0.4339\n",
      "Train on 7740 samples, validate on 3870 samples\n",
      "Epoch 1/5\n",
      "7740/7740 [==============================] - 0s 60us/sample - loss: 0.9248 - val_loss: 1.2185\n",
      "Epoch 2/5\n",
      "7740/7740 [==============================] - 0s 35us/sample - loss: 0.7240 - val_loss: 0.5258\n",
      "Epoch 3/5\n",
      "7740/7740 [==============================] - 0s 35us/sample - loss: 0.4655 - val_loss: 0.4560\n",
      "Epoch 4/5\n",
      "7740/7740 [==============================] - 0s 35us/sample - loss: 0.4329 - val_loss: 0.4296\n",
      "Epoch 5/5\n",
      "7740/7740 [==============================] - 0s 35us/sample - loss: 0.4117 - val_loss: 0.4208\n",
      "3870/3870 [==============================] - 0s 17us/sample - loss: 0.3963\n",
      "7740/7740 [==============================] - 0s 16us/sample - loss: 0.4066\n",
      "Train on 7740 samples, validate on 3870 samples\n",
      "Epoch 1/5\n",
      "7740/7740 [==============================] - 1s 78us/sample - loss: 0.9357 - val_loss: 0.6641\n",
      "Epoch 2/5\n",
      "7740/7740 [==============================] - 0s 35us/sample - loss: 0.7143 - val_loss: 0.5544\n",
      "Epoch 3/5\n",
      "7740/7740 [==============================] - 0s 35us/sample - loss: 0.4864 - val_loss: 0.4878\n",
      "Epoch 4/5\n",
      "7740/7740 [==============================] - 0s 35us/sample - loss: 0.4415 - val_loss: 0.4542\n",
      "Epoch 5/5\n",
      "7740/7740 [==============================] - 0s 35us/sample - loss: 0.4213 - val_loss: 0.4511\n",
      "3870/3870 [==============================] - 0s 16us/sample - loss: 0.4234\n",
      "7740/7740 [==============================] - 0s 15us/sample - loss: 0.4183\n",
      "Train on 7740 samples, validate on 3870 samples\n",
      "Epoch 1/5\n",
      "7740/7740 [==============================] - 0s 59us/sample - loss: 0.9006 - val_loss: 0.5990\n",
      "Epoch 2/5\n",
      "7740/7740 [==============================] - 0s 35us/sample - loss: 0.4871 - val_loss: 0.5010\n",
      "Epoch 3/5\n",
      "7740/7740 [==============================] - 0s 35us/sample - loss: 0.4347 - val_loss: 0.4514\n",
      "Epoch 4/5\n",
      "7740/7740 [==============================] - 0s 35us/sample - loss: 0.4076 - val_loss: 0.4351\n",
      "Epoch 5/5\n",
      "7740/7740 [==============================] - 0s 35us/sample - loss: 0.3947 - val_loss: 0.4162\n",
      "3870/3870 [==============================] - 0s 16us/sample - loss: 0.4198\n",
      "7740/7740 [==============================] - 0s 16us/sample - loss: 0.3846\n",
      "Train on 7740 samples, validate on 3870 samples\n",
      "Epoch 1/5\n",
      "7740/7740 [==============================] - 0s 59us/sample - loss: 0.9905 - val_loss: 0.7132\n",
      "Epoch 2/5\n",
      "7740/7740 [==============================] - 0s 36us/sample - loss: 0.6578 - val_loss: 0.5836\n",
      "Epoch 3/5\n",
      "7740/7740 [==============================] - 0s 35us/sample - loss: 0.5328 - val_loss: 0.5223\n",
      "Epoch 4/5\n",
      "7740/7740 [==============================] - 0s 35us/sample - loss: 0.4823 - val_loss: 0.4813\n",
      "Epoch 5/5\n",
      "7740/7740 [==============================] - 0s 36us/sample - loss: 0.4537 - val_loss: 0.4604\n",
      "3870/3870 [==============================] - 0s 16us/sample - loss: 0.4188\n",
      "7740/7740 [==============================] - 0s 17us/sample - loss: 0.4437\n",
      "Train on 7740 samples, validate on 3870 samples\n",
      "Epoch 1/5\n",
      "7740/7740 [==============================] - 0s 59us/sample - loss: 1.0889 - val_loss: 0.6602\n",
      "Epoch 2/5\n",
      "7740/7740 [==============================] - 0s 36us/sample - loss: 0.6551 - val_loss: 0.5633\n",
      "Epoch 3/5\n",
      "7740/7740 [==============================] - 0s 37us/sample - loss: 0.5088 - val_loss: 0.4931\n",
      "Epoch 4/5\n",
      "7740/7740 [==============================] - 0s 36us/sample - loss: 0.4456 - val_loss: 0.4614\n",
      "Epoch 5/5\n",
      "7740/7740 [==============================] - 0s 36us/sample - loss: 0.4250 - val_loss: 0.4375\n",
      "3870/3870 [==============================] - 0s 17us/sample - loss: 0.4149\n",
      "7740/7740 [==============================] - 0s 16us/sample - loss: 0.4118\n",
      "Train on 7740 samples, validate on 3870 samples\n",
      "Epoch 1/5\n",
      "7740/7740 [==============================] - 0s 60us/sample - loss: 1.3015 - val_loss: 0.8651\n",
      "Epoch 2/5\n",
      "7740/7740 [==============================] - 0s 36us/sample - loss: 0.5982 - val_loss: 0.5373\n",
      "Epoch 3/5\n",
      "7740/7740 [==============================] - 0s 36us/sample - loss: 0.4665 - val_loss: 0.4841\n",
      "Epoch 4/5\n",
      "7740/7740 [==============================] - 0s 36us/sample - loss: 0.4367 - val_loss: 0.4578\n",
      "Epoch 5/5\n",
      "7740/7740 [==============================] - 0s 36us/sample - loss: 0.4157 - val_loss: 0.4427\n",
      "3870/3870 [==============================] - 0s 17us/sample - loss: 0.4477\n",
      "7740/7740 [==============================] - 0s 17us/sample - loss: 0.4042\n",
      "Train on 7740 samples, validate on 3870 samples\n",
      "Epoch 1/5\n",
      "7740/7740 [==============================] - 1s 66us/sample - loss: 4.5157 - val_loss: 3.1720\n",
      "Epoch 2/5\n",
      "7740/7740 [==============================] - 0s 40us/sample - loss: 2.2261 - val_loss: 1.7484\n",
      "Epoch 3/5\n",
      "7740/7740 [==============================] - 0s 41us/sample - loss: 1.4069 - val_loss: 1.2671\n",
      "Epoch 4/5\n",
      "7740/7740 [==============================] - 0s 40us/sample - loss: 1.1139 - val_loss: 1.0696\n",
      "Epoch 5/5\n",
      "7740/7740 [==============================] - 0s 39us/sample - loss: 0.9691 - val_loss: 0.9581\n",
      "3870/3870 [==============================] - 0s 16us/sample - loss: 0.9190\n",
      "7740/7740 [==============================] - 0s 16us/sample - loss: 0.9152\n",
      "Train on 7740 samples, validate on 3870 samples\n",
      "Epoch 1/5\n",
      "7740/7740 [==============================] - 1s 67us/sample - loss: 3.6181 - val_loss: 2.2977\n",
      "Epoch 2/5\n",
      "7740/7740 [==============================] - 0s 39us/sample - loss: 1.6486 - val_loss: 1.3744\n",
      "Epoch 3/5\n",
      "7740/7740 [==============================] - 0s 39us/sample - loss: 1.1635 - val_loss: 1.0934\n",
      "Epoch 4/5\n",
      "7740/7740 [==============================] - 0s 39us/sample - loss: 0.9517 - val_loss: 0.9388\n",
      "Epoch 5/5\n",
      "7740/7740 [==============================] - 0s 40us/sample - loss: 0.8280 - val_loss: 0.8472\n",
      "3870/3870 [==============================] - 0s 17us/sample - loss: 0.7881\n",
      "7740/7740 [==============================] - 0s 17us/sample - loss: 0.7798\n",
      "Train on 7740 samples, validate on 3870 samples\n",
      "Epoch 1/5\n",
      "7740/7740 [==============================] - 0s 64us/sample - loss: 3.6107 - val_loss: 2.4455\n",
      "Epoch 2/5\n",
      "7740/7740 [==============================] - 0s 39us/sample - loss: 1.7696 - val_loss: 1.3692\n",
      "Epoch 3/5\n"
     ]
    },
    {
     "name": "stdout",
     "output_type": "stream",
     "text": [
      "7740/7740 [==============================] - 0s 38us/sample - loss: 1.0903 - val_loss: 1.0062\n",
      "Epoch 4/5\n",
      "7740/7740 [==============================] - 0s 38us/sample - loss: 0.8550 - val_loss: 0.8634\n",
      "Epoch 5/5\n",
      "7740/7740 [==============================] - 0s 39us/sample - loss: 0.7474 - val_loss: 0.7890\n",
      "3870/3870 [==============================] - 0s 17us/sample - loss: 0.7551\n",
      "7740/7740 [==============================] - 0s 17us/sample - loss: 0.7093\n",
      "Train on 7740 samples, validate on 3870 samples\n",
      "Epoch 1/5\n",
      "7740/7740 [==============================] - 0s 63us/sample - loss: 3.6548 - val_loss: 2.4376\n",
      "Epoch 2/5\n",
      "7740/7740 [==============================] - 0s 37us/sample - loss: 1.7985 - val_loss: 1.4001\n",
      "Epoch 3/5\n",
      "7740/7740 [==============================] - 0s 37us/sample - loss: 1.1836 - val_loss: 1.0337\n",
      "Epoch 4/5\n",
      "7740/7740 [==============================] - 0s 37us/sample - loss: 0.9242 - val_loss: 0.8683\n",
      "Epoch 5/5\n",
      "7740/7740 [==============================] - 0s 37us/sample - loss: 0.7923 - val_loss: 0.7822\n",
      "3870/3870 [==============================] - 0s 17us/sample - loss: 0.7528\n",
      "7740/7740 [==============================] - 0s 16us/sample - loss: 0.7451\n",
      "Train on 7740 samples, validate on 3870 samples\n",
      "Epoch 1/5\n",
      "7740/7740 [==============================] - 0s 62us/sample - loss: 3.5519 - val_loss: 2.3696\n",
      "Epoch 2/5\n",
      "7740/7740 [==============================] - 0s 39us/sample - loss: 1.6423 - val_loss: 1.3281\n",
      "Epoch 3/5\n",
      "7740/7740 [==============================] - 0s 36us/sample - loss: 1.0888 - val_loss: 1.0315\n",
      "Epoch 4/5\n",
      "7740/7740 [==============================] - 0s 37us/sample - loss: 0.8952 - val_loss: 0.8938\n",
      "Epoch 5/5\n",
      "7740/7740 [==============================] - 0s 37us/sample - loss: 0.7880 - val_loss: 0.8175\n",
      "3870/3870 [==============================] - 0s 17us/sample - loss: 0.7657\n",
      "7740/7740 [==============================] - 0s 16us/sample - loss: 0.7491\n",
      "Train on 7740 samples, validate on 3870 samples\n",
      "Epoch 1/5\n",
      "7740/7740 [==============================] - 0s 62us/sample - loss: 4.1868 - val_loss: 3.2062\n",
      "Epoch 2/5\n",
      "7740/7740 [==============================] - 0s 37us/sample - loss: 2.2973 - val_loss: 1.8443\n",
      "Epoch 3/5\n",
      "7740/7740 [==============================] - 0s 38us/sample - loss: 1.4513 - val_loss: 1.3238\n",
      "Epoch 4/5\n",
      "7740/7740 [==============================] - 0s 38us/sample - loss: 1.1051 - val_loss: 1.0853\n",
      "Epoch 5/5\n",
      "7740/7740 [==============================] - 0s 38us/sample - loss: 0.9279 - val_loss: 0.9446\n",
      "3870/3870 [==============================] - 0s 16us/sample - loss: 0.8989\n",
      "7740/7740 [==============================] - 0s 16us/sample - loss: 0.8588\n",
      "Train on 7740 samples, validate on 3870 samples\n",
      "Epoch 1/5\n",
      "7740/7740 [==============================] - 0s 57us/sample - loss: 1.0995 - val_loss: 0.7737\n",
      "Epoch 2/5\n",
      "7740/7740 [==============================] - 0s 35us/sample - loss: 0.9414 - val_loss: 0.5997\n",
      "Epoch 3/5\n",
      "7740/7740 [==============================] - 0s 36us/sample - loss: 0.5238 - val_loss: 0.4971\n",
      "Epoch 4/5\n",
      "7740/7740 [==============================] - 0s 35us/sample - loss: 0.4671 - val_loss: 0.4699\n",
      "Epoch 5/5\n",
      "7740/7740 [==============================] - 0s 36us/sample - loss: 0.4463 - val_loss: 0.4423\n",
      "3870/3870 [==============================] - 0s 16us/sample - loss: 0.4067\n",
      "7740/7740 [==============================] - 0s 15us/sample - loss: 0.4294\n",
      "Train on 7740 samples, validate on 3870 samples\n",
      "Epoch 1/5\n",
      "7740/7740 [==============================] - 0s 59us/sample - loss: 0.8971 - val_loss: 0.6413\n",
      "Epoch 2/5\n",
      "7740/7740 [==============================] - 0s 36us/sample - loss: 0.6135 - val_loss: 0.6608\n",
      "Epoch 3/5\n",
      "7740/7740 [==============================] - 0s 35us/sample - loss: 0.5109 - val_loss: 0.5031\n",
      "Epoch 4/5\n",
      "7740/7740 [==============================] - 0s 35us/sample - loss: 0.4600 - val_loss: 0.4839\n",
      "Epoch 5/5\n",
      "7740/7740 [==============================] - 0s 35us/sample - loss: 0.4279 - val_loss: 0.4437\n",
      "3870/3870 [==============================] - 0s 17us/sample - loss: 0.4253\n",
      "7740/7740 [==============================] - 0s 16us/sample - loss: 0.4175\n",
      "Train on 7740 samples, validate on 3870 samples\n",
      "Epoch 1/5\n",
      "7740/7740 [==============================] - 0s 59us/sample - loss: 1.3312 - val_loss: 0.6797\n",
      "Epoch 2/5\n",
      "7740/7740 [==============================] - 0s 35us/sample - loss: 0.6230 - val_loss: 0.5178\n",
      "Epoch 3/5\n",
      "7740/7740 [==============================] - 0s 36us/sample - loss: 0.4560 - val_loss: 0.4683\n",
      "Epoch 4/5\n",
      "7740/7740 [==============================] - 0s 35us/sample - loss: 0.4205 - val_loss: 0.4426\n",
      "Epoch 5/5\n",
      "7740/7740 [==============================] - 0s 35us/sample - loss: 0.3998 - val_loss: 0.4170\n",
      "3870/3870 [==============================] - 0s 17us/sample - loss: 0.4274\n",
      "7740/7740 [==============================] - 0s 16us/sample - loss: 0.3878\n",
      "Train on 7740 samples, validate on 3870 samples\n",
      "Epoch 1/5\n",
      "7740/7740 [==============================] - 1s 95us/sample - loss: 0.9247 - val_loss: 0.8300\n",
      "Epoch 2/5\n",
      "7740/7740 [==============================] - 0s 37us/sample - loss: 0.7109 - val_loss: 0.5419\n",
      "Epoch 3/5\n",
      "7740/7740 [==============================] - 0s 37us/sample - loss: 0.4790 - val_loss: 0.4685\n",
      "Epoch 4/5\n",
      "7740/7740 [==============================] - 0s 37us/sample - loss: 0.4350 - val_loss: 0.4395\n",
      "Epoch 5/5\n",
      "7740/7740 [==============================] - 0s 37us/sample - loss: 0.4136 - val_loss: 0.4131\n",
      "3870/3870 [==============================] - 0s 17us/sample - loss: 0.3826\n",
      "7740/7740 [==============================] - 0s 17us/sample - loss: 0.3988\n",
      "Train on 7740 samples, validate on 3870 samples\n",
      "Epoch 1/5\n",
      "7740/7740 [==============================] - 0s 63us/sample - loss: 0.9056 - val_loss: 0.5877\n",
      "Epoch 2/5\n",
      "7740/7740 [==============================] - 0s 37us/sample - loss: 0.5128 - val_loss: 0.4983\n",
      "Epoch 3/5\n",
      "7740/7740 [==============================] - 0s 37us/sample - loss: 0.4414 - val_loss: 0.4406\n",
      "Epoch 4/5\n",
      "7740/7740 [==============================] - 0s 37us/sample - loss: 0.4073 - val_loss: 0.4198\n",
      "Epoch 5/5\n",
      "7740/7740 [==============================] - 0s 41us/sample - loss: 0.3896 - val_loss: 0.4061\n",
      "3870/3870 [==============================] - 0s 17us/sample - loss: 0.3826\n",
      "7740/7740 [==============================] - 0s 17us/sample - loss: 0.3794\n",
      "Train on 7740 samples, validate on 3870 samples\n",
      "Epoch 1/5\n",
      "7740/7740 [==============================] - 1s 65us/sample - loss: 0.8190 - val_loss: 0.5647\n",
      "Epoch 2/5\n",
      "7740/7740 [==============================] - 0s 38us/sample - loss: 0.4683 - val_loss: 0.4872\n",
      "Epoch 3/5\n",
      "7740/7740 [==============================] - 0s 37us/sample - loss: 0.4264 - val_loss: 0.4439\n",
      "Epoch 4/5\n",
      "7740/7740 [==============================] - 0s 38us/sample - loss: 0.4034 - val_loss: 0.4479\n",
      "Epoch 5/5\n",
      "7740/7740 [==============================] - 0s 37us/sample - loss: 0.3842 - val_loss: 0.4057\n",
      "3870/3870 [==============================] - 0s 17us/sample - loss: 0.4115\n",
      "7740/7740 [==============================] - 0s 16us/sample - loss: 0.3687\n",
      "Train on 7740 samples, validate on 3870 samples\n",
      "Epoch 1/5\n",
      "7740/7740 [==============================] - 1s 65us/sample - loss: 4.6162 - val_loss: 3.8591\n",
      "Epoch 2/5\n",
      "7740/7740 [==============================] - 0s 40us/sample - loss: 3.0758 - val_loss: 2.5897\n",
      "Epoch 3/5\n",
      "7740/7740 [==============================] - 0s 39us/sample - loss: 2.1235 - val_loss: 1.8280\n",
      "Epoch 4/5\n",
      "7740/7740 [==============================] - 0s 39us/sample - loss: 1.5920 - val_loss: 1.4255\n",
      "Epoch 5/5\n",
      "7740/7740 [==============================] - 0s 40us/sample - loss: 1.2996 - val_loss: 1.1967\n",
      "3870/3870 [==============================] - 0s 17us/sample - loss: 1.2260\n",
      "7740/7740 [==============================] - 0s 16us/sample - loss: 1.1911\n",
      "Train on 7740 samples, validate on 3870 samples\n",
      "Epoch 1/5\n",
      "7740/7740 [==============================] - 1s 65us/sample - loss: 4.7488 - val_loss: 4.1133\n",
      "Epoch 2/5\n",
      "7740/7740 [==============================] - 0s 41us/sample - loss: 3.3451 - val_loss: 2.9245\n",
      "Epoch 3/5\n",
      "7740/7740 [==============================] - 0s 39us/sample - loss: 2.4357 - val_loss: 2.1947\n",
      "Epoch 4/5\n",
      "7740/7740 [==============================] - 0s 39us/sample - loss: 1.8728 - val_loss: 1.7348\n",
      "Epoch 5/5\n",
      "7740/7740 [==============================] - 0s 38us/sample - loss: 1.5304 - val_loss: 1.4618\n"
     ]
    },
    {
     "name": "stdout",
     "output_type": "stream",
     "text": [
      "3870/3870 [==============================] - 0s 17us/sample - loss: 1.3925\n",
      "7740/7740 [==============================] - 0s 16us/sample - loss: 1.3919\n",
      "Train on 7740 samples, validate on 3870 samples\n",
      "Epoch 1/5\n",
      "7740/7740 [==============================] - 1s 67us/sample - loss: 4.3521 - val_loss: 3.8267\n",
      "Epoch 2/5\n",
      "7740/7740 [==============================] - 0s 39us/sample - loss: 3.0776 - val_loss: 2.7439\n",
      "Epoch 3/5\n",
      "7740/7740 [==============================] - 0s 38us/sample - loss: 2.2241 - val_loss: 2.0462\n",
      "Epoch 4/5\n",
      "7740/7740 [==============================] - 0s 39us/sample - loss: 1.7056 - val_loss: 1.6450\n",
      "Epoch 5/5\n",
      "7740/7740 [==============================] - 0s 39us/sample - loss: 1.4119 - val_loss: 1.4192\n",
      "3870/3870 [==============================] - 0s 17us/sample - loss: 1.3953\n",
      "7740/7740 [==============================] - 0s 16us/sample - loss: 1.3032\n",
      "Train on 7740 samples, validate on 3870 samples\n",
      "Epoch 1/5\n",
      "7740/7740 [==============================] - 0s 63us/sample - loss: 1.4610 - val_loss: 0.7337\n",
      "Epoch 2/5\n",
      "7740/7740 [==============================] - 0s 38us/sample - loss: 0.6672 - val_loss: 0.6568\n",
      "Epoch 3/5\n",
      "7740/7740 [==============================] - 0s 36us/sample - loss: 0.6036 - val_loss: 0.6026\n",
      "Epoch 4/5\n",
      "7740/7740 [==============================] - 0s 37us/sample - loss: 0.5581 - val_loss: 0.5637\n",
      "Epoch 5/5\n",
      "7740/7740 [==============================] - 0s 37us/sample - loss: 0.5235 - val_loss: 0.5294\n",
      "3870/3870 [==============================] - 0s 17us/sample - loss: 0.4625\n",
      "7740/7740 [==============================] - 0s 16us/sample - loss: 0.5064\n",
      "Train on 7740 samples, validate on 3870 samples\n",
      "Epoch 1/5\n",
      "7740/7740 [==============================] - 0s 63us/sample - loss: 1.7333 - val_loss: 0.8432\n",
      "Epoch 2/5\n",
      "7740/7740 [==============================] - 0s 37us/sample - loss: 0.6994 - val_loss: 0.6957\n",
      "Epoch 3/5\n",
      "7740/7740 [==============================] - 0s 37us/sample - loss: 0.6166 - val_loss: 0.6378\n",
      "Epoch 4/5\n",
      "7740/7740 [==============================] - 0s 37us/sample - loss: 0.5706 - val_loss: 0.5962\n",
      "Epoch 5/5\n",
      "7740/7740 [==============================] - 0s 37us/sample - loss: 0.5368 - val_loss: 0.5689\n",
      "3870/3870 [==============================] - 0s 17us/sample - loss: 0.5316\n",
      "7740/7740 [==============================] - 0s 16us/sample - loss: 0.5201\n",
      "Train on 7740 samples, validate on 3870 samples\n",
      "Epoch 1/5\n",
      "7740/7740 [==============================] - 0s 62us/sample - loss: 1.5173 - val_loss: 0.7833\n",
      "Epoch 2/5\n",
      "7740/7740 [==============================] - 0s 37us/sample - loss: 0.7015 - val_loss: 0.6674\n",
      "Epoch 3/5\n",
      "7740/7740 [==============================] - 0s 38us/sample - loss: 0.5858 - val_loss: 0.6306\n",
      "Epoch 4/5\n",
      "7740/7740 [==============================] - 0s 41us/sample - loss: 0.5485 - val_loss: 0.5915\n",
      "Epoch 5/5\n",
      "7740/7740 [==============================] - 0s 38us/sample - loss: 0.5193 - val_loss: 0.5626\n",
      "3870/3870 [==============================] - 0s 17us/sample - loss: 0.5514\n",
      "7740/7740 [==============================] - 0s 16us/sample - loss: 0.5036\n",
      "Train on 7740 samples, validate on 3870 samples\n",
      "Epoch 1/5\n",
      "7740/7740 [==============================] - 0s 58us/sample - loss: 3.5881 - val_loss: 2.3224\n",
      "Epoch 2/5\n",
      "7740/7740 [==============================] - 0s 35us/sample - loss: 1.6710 - val_loss: 1.4682\n",
      "Epoch 3/5\n",
      "7740/7740 [==============================] - 0s 34us/sample - loss: 1.1547 - val_loss: 1.0684\n",
      "Epoch 4/5\n",
      "7740/7740 [==============================] - 0s 34us/sample - loss: 0.8951 - val_loss: 0.8635\n",
      "Epoch 5/5\n",
      "7740/7740 [==============================] - 0s 34us/sample - loss: 0.7751 - val_loss: 0.7833\n",
      "3870/3870 [==============================] - 0s 15us/sample - loss: 0.6966\n",
      "7740/7740 [==============================] - 0s 15us/sample - loss: 0.7396\n",
      "Train on 7740 samples, validate on 3870 samples\n",
      "Epoch 1/5\n",
      "7740/7740 [==============================] - 0s 57us/sample - loss: 3.9688 - val_loss: 2.4265\n",
      "Epoch 2/5\n",
      "7740/7740 [==============================] - 0s 35us/sample - loss: 1.7410 - val_loss: 1.4396\n",
      "Epoch 3/5\n",
      "7740/7740 [==============================] - 0s 34us/sample - loss: 1.2210 - val_loss: 1.1382\n",
      "Epoch 4/5\n",
      "7740/7740 [==============================] - 0s 34us/sample - loss: 1.0225 - val_loss: 1.0031\n",
      "Epoch 5/5\n",
      "7740/7740 [==============================] - 0s 34us/sample - loss: 0.9182 - val_loss: 0.9285\n",
      "3870/3870 [==============================] - 0s 17us/sample - loss: 0.9002\n",
      "7740/7740 [==============================] - 0s 15us/sample - loss: 0.8808\n",
      "Train on 7740 samples, validate on 3870 samples\n",
      "Epoch 1/5\n",
      "7740/7740 [==============================] - 0s 58us/sample - loss: 4.1108 - val_loss: 2.5085\n",
      "Epoch 2/5\n",
      "7740/7740 [==============================] - 0s 34us/sample - loss: 1.8254 - val_loss: 1.5796\n",
      "Epoch 3/5\n",
      "7740/7740 [==============================] - 0s 34us/sample - loss: 1.3788 - val_loss: 1.3365\n",
      "Epoch 4/5\n",
      "7740/7740 [==============================] - 0s 34us/sample - loss: 1.1897 - val_loss: 1.2034\n",
      "Epoch 5/5\n",
      "7740/7740 [==============================] - 0s 35us/sample - loss: 1.0640 - val_loss: 1.0995\n",
      "3870/3870 [==============================] - 0s 17us/sample - loss: 1.0904\n",
      "7740/7740 [==============================] - 0s 16us/sample - loss: 1.0060\n",
      "Train on 11610 samples, validate on 3870 samples\n",
      "Epoch 1/5\n",
      "11610/11610 [==============================] - 1s 51us/sample - loss: 0.8917 - val_loss: 0.5504\n",
      "Epoch 2/5\n",
      "11610/11610 [==============================] - 0s 34us/sample - loss: 0.4671 - val_loss: 0.4677\n",
      "Epoch 3/5\n",
      "11610/11610 [==============================] - 0s 34us/sample - loss: 0.4136 - val_loss: 0.4331\n",
      "Epoch 4/5\n",
      "11610/11610 [==============================] - 0s 33us/sample - loss: 0.3912 - val_loss: 0.3928\n",
      "Epoch 5/5\n",
      "11610/11610 [==============================] - 0s 34us/sample - loss: 0.3754 - val_loss: 0.3817\n"
     ]
    },
    {
     "data": {
      "text/plain": [
       "RandomizedSearchCV(cv='warn', error_score='raise-deprecating',\n",
       "          estimator=<tensorflow.python.keras.wrappers.scikit_learn.KerasRegressor object at 0x000001FB903C7FD0>,\n",
       "          fit_params=None, iid='warn', n_iter=10, n_jobs=1,\n",
       "          param_distributions={'hidden_layers': [1, 2, 3], 'layer_size': array([ 1,  2, ..., 98, 99]), 'learning_rate': <scipy.stats._distn_infrastructure.rv_frozen object at 0x000001FB938BA4E0>},\n",
       "          pre_dispatch='2*n_jobs', random_state=None, refit=True,\n",
       "          return_train_score='warn', scoring=None, verbose=0)"
      ]
     },
     "execution_count": 19,
     "metadata": {},
     "output_type": "execute_result"
    }
   ],
   "source": [
    "from scipy.stats import reciprocal\n",
    "\n",
    "param_distribution = {\n",
    "    'hidden_layers': [1, 2, 3],\n",
    "    'layer_size': np.arange(1, 100),\n",
    "    'learning_rate': reciprocal(1e-4, 1e-2)\n",
    "}\n",
    "\n",
    "from sklearn.model_selection import RandomizedSearchCV\n",
    "\n",
    "random_search_cv = RandomizedSearchCV(sklearn_model,\n",
    "                                     param_distribution,\n",
    "                                     n_iter=10,\n",
    "                                     n_jobs=1)\n",
    "random_search_cv.fit(x_train_scaled, y_train, epochs=5,\n",
    "                    validation_data=(x_valid_scaled, y_valid),\n",
    "                    callbacks=callbacks)"
   ]
  },
  {
   "cell_type": "code",
   "execution_count": 22,
   "metadata": {},
   "outputs": [
    {
     "name": "stdout",
     "output_type": "stream",
     "text": [
      "{'hidden_layers': 3, 'layer_size': 49, 'learning_rate': 0.00794006229182883}\n",
      "-0.3922239237130458\n",
      "<tensorflow.python.keras.wrappers.scikit_learn.KerasRegressor object at 0x000001FB936F1940>\n"
     ]
    }
   ],
   "source": [
    "print(random_search_cv.best_params_)\n",
    "print(random_search_cv.best_score_)\n",
    "print(random_search_cv.best_estimator_)"
   ]
  },
  {
   "cell_type": "code",
   "execution_count": 23,
   "metadata": {},
   "outputs": [
    {
     "name": "stdout",
     "output_type": "stream",
     "text": [
      "5160/5160 [==============================] - 0s 17us/sample - loss: 0.3829\n"
     ]
    },
    {
     "data": {
      "text/plain": [
       "0.3829048568888228"
      ]
     },
     "execution_count": 23,
     "metadata": {},
     "output_type": "execute_result"
    }
   ],
   "source": [
    "model = random_search_cv.best_estimator_.model\n",
    "model.evaluate(x_test_scaled, y_test)"
   ]
  },
  {
   "cell_type": "code",
   "execution_count": null,
   "metadata": {},
   "outputs": [],
   "source": []
  }
 ],
 "metadata": {
  "kernelspec": {
   "display_name": "Python 3",
   "language": "python",
   "name": "python3"
  },
  "language_info": {
   "codemirror_mode": {
    "name": "ipython",
    "version": 3
   },
   "file_extension": ".py",
   "mimetype": "text/x-python",
   "name": "python",
   "nbconvert_exporter": "python",
   "pygments_lexer": "ipython3",
   "version": "3.7.1"
  }
 },
 "nbformat": 4,
 "nbformat_minor": 2
}
